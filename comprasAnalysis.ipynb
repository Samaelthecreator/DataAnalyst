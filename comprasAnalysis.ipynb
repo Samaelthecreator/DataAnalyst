{
 "cells": [
  {
   "cell_type": "code",
   "execution_count": 1,
   "metadata": {},
   "outputs": [],
   "source": [
    "import pandas as pd\n",
    "import numpy as np\n",
    "import seaborn as sns\n",
    "import matplotlib.pyplot as plt\n",
    "import psycopg2 as psc"
   ]
  },
  {
   "cell_type": "code",
   "execution_count": 11,
   "metadata": {},
   "outputs": [],
   "source": [
    "#Creamos las credenciales para ingresar a la base de datos\n",
    "from sqlalchemy import create_engine\n",
    "server = {\n",
    "    'user' : 'postgres',\n",
    "    'password' : 'detectivecreador',\n",
    "    'host' : 'localhost',\n",
    "    'port' : '5434',\n",
    "    'database' : 'SITEC, soluciones y servicios'\n",
    "}\n",
    "\n",
    "#Creamos la cadena de conexión\n",
    "#conn_str = f'postgresql+psycopg2://{user}:{password}@{host}:{port}/{database}'\n",
    "\n",
    "conn_str = f\"postgresql+psycopg2://{server['user']}:{server['password']}@{server['host']}:{server['port']}/{server['database']}\"\n",
    "\n",
    "#Creamos el motor de conexión\n",
    "\n",
    "engine = create_engine(conn_str)"
   ]
  },
  {
   "cell_type": "code",
   "execution_count": 99,
   "metadata": {},
   "outputs": [],
   "source": [
    "#Extraemos la tabla compras\n",
    "#Tenemos que castear la columna importe total ya que esta en formato money y al extraerlo y guardarlo en un dataframe, el tipo\n",
    "#de columna será tipo str\n",
    "consulta = '''SELECT id_compra, \n",
    "            id_proveedor, \n",
    "            id_estado, status, \n",
    "            ref_proveedor, \n",
    "            fecha_recepcion AS fecha, \n",
    "            fecha_cancelacion,\n",
    "            CAST(importe_total AS numeric) AS importe_total FROM compras'''\n",
    "\n",
    "compras = pd.read_sql(consulta,engine)\n"
   ]
  },
  {
   "cell_type": "code",
   "execution_count": 75,
   "metadata": {},
   "outputs": [
    {
     "data": {
      "text/html": [
       "<div>\n",
       "<style scoped>\n",
       "    .dataframe tbody tr th:only-of-type {\n",
       "        vertical-align: middle;\n",
       "    }\n",
       "\n",
       "    .dataframe tbody tr th {\n",
       "        vertical-align: top;\n",
       "    }\n",
       "\n",
       "    .dataframe thead th {\n",
       "        text-align: right;\n",
       "    }\n",
       "</style>\n",
       "<table border=\"1\" class=\"dataframe\">\n",
       "  <thead>\n",
       "    <tr style=\"text-align: right;\">\n",
       "      <th></th>\n",
       "      <th>id_compra</th>\n",
       "      <th>id_proveedor</th>\n",
       "      <th>id_estado</th>\n",
       "      <th>importe_total</th>\n",
       "    </tr>\n",
       "  </thead>\n",
       "  <tbody>\n",
       "    <tr>\n",
       "      <th>count</th>\n",
       "      <td>9910.000000</td>\n",
       "      <td>9910.000000</td>\n",
       "      <td>9910.000000</td>\n",
       "      <td>9.910000e+03</td>\n",
       "    </tr>\n",
       "    <tr>\n",
       "      <th>mean</th>\n",
       "      <td>4955.500000</td>\n",
       "      <td>688.875177</td>\n",
       "      <td>1.617154</td>\n",
       "      <td>1.848554e+04</td>\n",
       "    </tr>\n",
       "    <tr>\n",
       "      <th>std</th>\n",
       "      <td>2860.914918</td>\n",
       "      <td>392.101356</td>\n",
       "      <td>0.713287</td>\n",
       "      <td>8.533682e+04</td>\n",
       "    </tr>\n",
       "    <tr>\n",
       "      <th>min</th>\n",
       "      <td>1.000000</td>\n",
       "      <td>1.000000</td>\n",
       "      <td>1.000000</td>\n",
       "      <td>7.840000e+00</td>\n",
       "    </tr>\n",
       "    <tr>\n",
       "      <th>25%</th>\n",
       "      <td>2478.250000</td>\n",
       "      <td>422.000000</td>\n",
       "      <td>1.000000</td>\n",
       "      <td>5.370275e+02</td>\n",
       "    </tr>\n",
       "    <tr>\n",
       "      <th>50%</th>\n",
       "      <td>4955.500000</td>\n",
       "      <td>727.000000</td>\n",
       "      <td>1.000000</td>\n",
       "      <td>1.776625e+03</td>\n",
       "    </tr>\n",
       "    <tr>\n",
       "      <th>75%</th>\n",
       "      <td>7432.750000</td>\n",
       "      <td>935.000000</td>\n",
       "      <td>2.000000</td>\n",
       "      <td>1.102000e+04</td>\n",
       "    </tr>\n",
       "    <tr>\n",
       "      <th>max</th>\n",
       "      <td>9910.000000</td>\n",
       "      <td>14001.000000</td>\n",
       "      <td>3.000000</td>\n",
       "      <td>5.271941e+06</td>\n",
       "    </tr>\n",
       "  </tbody>\n",
       "</table>\n",
       "</div>"
      ],
      "text/plain": [
       "         id_compra  id_proveedor    id_estado  importe_total\n",
       "count  9910.000000   9910.000000  9910.000000   9.910000e+03\n",
       "mean   4955.500000    688.875177     1.617154   1.848554e+04\n",
       "std    2860.914918    392.101356     0.713287   8.533682e+04\n",
       "min       1.000000      1.000000     1.000000   7.840000e+00\n",
       "25%    2478.250000    422.000000     1.000000   5.370275e+02\n",
       "50%    4955.500000    727.000000     1.000000   1.776625e+03\n",
       "75%    7432.750000    935.000000     2.000000   1.102000e+04\n",
       "max    9910.000000  14001.000000     3.000000   5.271941e+06"
      ]
     },
     "execution_count": 75,
     "metadata": {},
     "output_type": "execute_result"
    }
   ],
   "source": [
    "#Revisamos las variables estadisticas del dataframe\n",
    "compras.describe()\n",
    "\n",
    " "
   ]
  },
  {
   "cell_type": "markdown",
   "metadata": {},
   "source": [
    "Si queremos realizar queries dentro de un dataframe, tenemos que importar la libreria *pandassql*:\n",
    "\n",
    "**pip install pandasql**\n",
    "\n"
   ]
  },
  {
   "cell_type": "code",
   "execution_count": null,
   "metadata": {},
   "outputs": [],
   "source": [
    "import pandasql as ps\n",
    "\n",
    "#Definimos la query\n",
    "\n",
    "consulta = '''SELECT importe_total FROM compras'''\n",
    "\n",
    "del a\n",
    "print(ps.sqldf(consulta,locals())) #la función .sqldf nos permite realizar una consulta (primer argumento) a los dataframes locales\n",
    "#la tabla que va a tomar es la que viene en la querie, detectará ese nombre y buscara en el area local un dataframe con ese nombre"
   ]
  },
  {
   "cell_type": "code",
   "execution_count": 84,
   "metadata": {},
   "outputs": [],
   "source": [
    "#Extraemos las tablas que existen en la base de datos.\n",
    "qproveedores = 'SELECT * FROM proveedores'\n",
    "proveedores = pd.read_sql(qproveedores,engine)\n"
   ]
  },
  {
   "cell_type": "code",
   "execution_count": 127,
   "metadata": {},
   "outputs": [],
   "source": [
    "##Obtener los 3 mejores proveedores por mes del 2024\n",
    "enero = '''SELECT DISTINCT(p.nombre), SUM(c.importe_total) AS importe__proveedor FROM compras c\n",
    "        INNER JOIN proveedores p\n",
    "        ON c.id_proveedor = p.id_proveedor\n",
    "        WHERE fecha BETWEEN '2024-01-01T00:00:00.000Z' AND '2024-01-31T00:00:00.000Z'\n",
    "        GROUP BY p.nombre\n",
    "        ORDER BY SUM(c.importe_total) DESC\n",
    "        LIMIT 3\n",
    "        '''\n",
    "febrero = '''SELECT DISTINCT(p.nombre), SUM(c.importe_total) AS importe__proveedor FROM compras c\n",
    "        INNER JOIN proveedores p\n",
    "        ON c.id_proveedor = p.id_proveedor\n",
    "        WHERE fecha BETWEEN '2024-02-01T00:00:00.000Z' AND '2024-02-31T00:00:00.000Z'\n",
    "        GROUP BY p.nombre\n",
    "        ORDER BY SUM(c.importe_total) DESC\n",
    "        LIMIT 3\n",
    "        '''\n",
    "marzo = '''SELECT DISTINCT(p.nombre), SUM(c.importe_total) AS importe__proveedor FROM compras c\n",
    "        INNER JOIN proveedores p\n",
    "        ON c.id_proveedor = p.id_proveedor\n",
    "        WHERE fecha BETWEEN '2024-03-01T00:00:00.000Z' AND '2024-03-31T00:00:00.000Z'\n",
    "        GROUP BY p.nombre\n",
    "        ORDER BY SUM(c.importe_total) DESC\n",
    "        LIMIT 3\n",
    "        '''\n",
    "abril = '''SELECT DISTINCT(p.nombre), SUM(c.importe_total) AS importe__proveedor FROM compras c\n",
    "        INNER JOIN proveedores p\n",
    "        ON c.id_proveedor = p.id_proveedor\n",
    "        WHERE fecha BETWEEN '2024-04-01T00:00:00.000Z' AND '2024-04-31T00:00:00.000Z'\n",
    "        GROUP BY p.nombre\n",
    "        ORDER BY SUM(c.importe_total) DESC\n",
    "        LIMIT 3\n",
    "        '''\n",
    "mayo = '''SELECT DISTINCT(p.nombre), SUM(c.importe_total) AS importe__proveedor FROM compras c\n",
    "        INNER JOIN proveedores p\n",
    "        ON c.id_proveedor = p.id_proveedor\n",
    "        WHERE fecha BETWEEN '2024-05-01T00:00:00.000Z' AND '2024-05-31T00:00:00.000Z'\n",
    "        GROUP BY p.nombre\n",
    "        ORDER BY SUM(c.importe_total) DESC\n",
    "        LIMIT 3\n",
    "        '''\n",
    "\n",
    "meses = ['enero','febrero','marzo','abril','mayo']\n",
    "q = [ps.sqldf(enero,locals()),ps.sqldf(febrero,locals()),ps.sqldf(marzo,locals()),ps.sqldf(abril,locals()),ps.sqldf(mayo,locals())]\n"
   ]
  },
  {
   "cell_type": "code",
   "execution_count": 139,
   "metadata": {},
   "outputs": [],
   "source": [
    "rankingproveedores2024 = {}\n",
    "rankingproveedores2024 = {mes : consulta for mes,consulta in zip(meses,q)}\n",
    "del abc"
   ]
  },
  {
   "cell_type": "code",
   "execution_count": 147,
   "metadata": {},
   "outputs": [
    {
     "data": {
      "text/html": [
       "<div>\n",
       "<style scoped>\n",
       "    .dataframe tbody tr th:only-of-type {\n",
       "        vertical-align: middle;\n",
       "    }\n",
       "\n",
       "    .dataframe tbody tr th {\n",
       "        vertical-align: top;\n",
       "    }\n",
       "\n",
       "    .dataframe thead th {\n",
       "        text-align: right;\n",
       "    }\n",
       "</style>\n",
       "<table border=\"1\" class=\"dataframe\">\n",
       "  <thead>\n",
       "    <tr style=\"text-align: right;\">\n",
       "      <th></th>\n",
       "      <th>nombre</th>\n",
       "      <th>importe__proveedor</th>\n",
       "    </tr>\n",
       "  </thead>\n",
       "  <tbody>\n",
       "    <tr>\n",
       "      <th>0</th>\n",
       "      <td>Zigor Soluciones Integrales, S.A. de C.V.</td>\n",
       "      <td>929390.00</td>\n",
       "    </tr>\n",
       "    <tr>\n",
       "      <th>1</th>\n",
       "      <td>Grupo Kayla Servicios Integrales, S.A. de C.V.</td>\n",
       "      <td>550779.76</td>\n",
       "    </tr>\n",
       "    <tr>\n",
       "      <th>2</th>\n",
       "      <td>Grupo Duri Servicios Integrales, S.A. de C.V.</td>\n",
       "      <td>537818.39</td>\n",
       "    </tr>\n",
       "  </tbody>\n",
       "</table>\n",
       "</div>"
      ],
      "text/plain": [
       "                                           nombre  importe__proveedor\n",
       "0       Zigor Soluciones Integrales, S.A. de C.V.           929390.00\n",
       "1  Grupo Kayla Servicios Integrales, S.A. de C.V.           550779.76\n",
       "2   Grupo Duri Servicios Integrales, S.A. de C.V.           537818.39"
      ]
     },
     "execution_count": 147,
     "metadata": {},
     "output_type": "execute_result"
    }
   ],
   "source": [
    "rankingproveedores2024['enero']"
   ]
  },
  {
   "cell_type": "code",
   "execution_count": null,
   "metadata": {},
   "outputs": [],
   "source": []
  },
  {
   "cell_type": "code",
   "execution_count": null,
   "metadata": {},
   "outputs": [],
   "source": []
  }
 ],
 "metadata": {
  "kernelspec": {
   "display_name": "base",
   "language": "python",
   "name": "python3"
  },
  "language_info": {
   "codemirror_mode": {
    "name": "ipython",
    "version": 3
   },
   "file_extension": ".py",
   "mimetype": "text/x-python",
   "name": "python",
   "nbconvert_exporter": "python",
   "pygments_lexer": "ipython3",
   "version": "3.9.13"
  }
 },
 "nbformat": 4,
 "nbformat_minor": 2
}
