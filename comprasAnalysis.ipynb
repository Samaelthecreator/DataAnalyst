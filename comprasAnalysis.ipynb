{
 "cells": [
  {
   "cell_type": "code",
   "execution_count": 1,
   "metadata": {},
   "outputs": [],
   "source": [
    "import pandas as pd\n",
    "import numpy as np\n",
    "import seaborn as sns\n",
    "import matplotlib.pyplot as plt\n",
    "import psycopg2 as psc"
   ]
  },
  {
   "cell_type": "code",
   "execution_count": 2,
   "metadata": {},
   "outputs": [],
   "source": [
    "#Creamos las credenciales para ingresar a la base de datos\n",
    "from sqlalchemy import create_engine\n",
    "server = {\n",
    "    'user' : 'postgres',\n",
    "    'password' : 'detectivecreador',\n",
    "    'host' : 'localhost',\n",
    "    'port' : '5434',\n",
    "    'database' : 'SITEC, soluciones y servicios'\n",
    "}\n",
    "\n",
    "#Creamos la cadena de conexión\n",
    "#conn_str = f'postgresql+psycopg2://{user}:{password}@{host}:{port}/{database}'\n",
    "\n",
    "conn_str = f\"postgresql+psycopg2://{server['user']}:{server['password']}@{server['host']}:{server['port']}/{server['database']}\"\n",
    "\n",
    "#Creamos el motor de conexión\n",
    "\n",
    "engine = create_engine(conn_str)"
   ]
  },
  {
   "cell_type": "code",
   "execution_count": 3,
   "metadata": {},
   "outputs": [],
   "source": [
    "#Extraemos la tabla compras\n",
    "#Tenemos que castear la columna importe total ya que esta en formato money y al extraerlo y guardarlo en un dataframe, el tipo\n",
    "#de columna será tipo str\n",
    "consulta = '''SELECT id_compra, \n",
    "            id_proveedor, \n",
    "            id_estado, status, \n",
    "            ref_proveedor, \n",
    "            fecha_recepcion AS fecha, \n",
    "            fecha_cancelacion,\n",
    "            CAST(importe_total AS numeric) AS importe_total FROM compras'''\n",
    "\n",
    "compras = pd.read_sql(consulta,engine)\n"
   ]
  },
  {
   "cell_type": "code",
   "execution_count": 4,
   "metadata": {},
   "outputs": [
    {
     "data": {
      "text/html": [
       "<div>\n",
       "<style scoped>\n",
       "    .dataframe tbody tr th:only-of-type {\n",
       "        vertical-align: middle;\n",
       "    }\n",
       "\n",
       "    .dataframe tbody tr th {\n",
       "        vertical-align: top;\n",
       "    }\n",
       "\n",
       "    .dataframe thead th {\n",
       "        text-align: right;\n",
       "    }\n",
       "</style>\n",
       "<table border=\"1\" class=\"dataframe\">\n",
       "  <thead>\n",
       "    <tr style=\"text-align: right;\">\n",
       "      <th></th>\n",
       "      <th>id_compra</th>\n",
       "      <th>id_proveedor</th>\n",
       "      <th>id_estado</th>\n",
       "      <th>importe_total</th>\n",
       "    </tr>\n",
       "  </thead>\n",
       "  <tbody>\n",
       "    <tr>\n",
       "      <th>count</th>\n",
       "      <td>9910.000000</td>\n",
       "      <td>9910.000000</td>\n",
       "      <td>9910.000000</td>\n",
       "      <td>9.910000e+03</td>\n",
       "    </tr>\n",
       "    <tr>\n",
       "      <th>mean</th>\n",
       "      <td>4955.500000</td>\n",
       "      <td>688.875177</td>\n",
       "      <td>1.617154</td>\n",
       "      <td>1.848554e+04</td>\n",
       "    </tr>\n",
       "    <tr>\n",
       "      <th>std</th>\n",
       "      <td>2860.914918</td>\n",
       "      <td>392.101356</td>\n",
       "      <td>0.713287</td>\n",
       "      <td>8.533682e+04</td>\n",
       "    </tr>\n",
       "    <tr>\n",
       "      <th>min</th>\n",
       "      <td>1.000000</td>\n",
       "      <td>1.000000</td>\n",
       "      <td>1.000000</td>\n",
       "      <td>7.840000e+00</td>\n",
       "    </tr>\n",
       "    <tr>\n",
       "      <th>25%</th>\n",
       "      <td>2478.250000</td>\n",
       "      <td>422.000000</td>\n",
       "      <td>1.000000</td>\n",
       "      <td>5.370275e+02</td>\n",
       "    </tr>\n",
       "    <tr>\n",
       "      <th>50%</th>\n",
       "      <td>4955.500000</td>\n",
       "      <td>727.000000</td>\n",
       "      <td>1.000000</td>\n",
       "      <td>1.776625e+03</td>\n",
       "    </tr>\n",
       "    <tr>\n",
       "      <th>75%</th>\n",
       "      <td>7432.750000</td>\n",
       "      <td>935.000000</td>\n",
       "      <td>2.000000</td>\n",
       "      <td>1.102000e+04</td>\n",
       "    </tr>\n",
       "    <tr>\n",
       "      <th>max</th>\n",
       "      <td>9910.000000</td>\n",
       "      <td>14001.000000</td>\n",
       "      <td>3.000000</td>\n",
       "      <td>5.271941e+06</td>\n",
       "    </tr>\n",
       "  </tbody>\n",
       "</table>\n",
       "</div>"
      ],
      "text/plain": [
       "         id_compra  id_proveedor    id_estado  importe_total\n",
       "count  9910.000000   9910.000000  9910.000000   9.910000e+03\n",
       "mean   4955.500000    688.875177     1.617154   1.848554e+04\n",
       "std    2860.914918    392.101356     0.713287   8.533682e+04\n",
       "min       1.000000      1.000000     1.000000   7.840000e+00\n",
       "25%    2478.250000    422.000000     1.000000   5.370275e+02\n",
       "50%    4955.500000    727.000000     1.000000   1.776625e+03\n",
       "75%    7432.750000    935.000000     2.000000   1.102000e+04\n",
       "max    9910.000000  14001.000000     3.000000   5.271941e+06"
      ]
     },
     "execution_count": 4,
     "metadata": {},
     "output_type": "execute_result"
    }
   ],
   "source": [
    "#Revisamos las variables estadisticas del dataframe\n",
    "compras.describe()\n",
    "\n",
    " "
   ]
  },
  {
   "cell_type": "markdown",
   "metadata": {},
   "source": [
    "Si queremos realizar queries dentro de un dataframe, tenemos que importar la libreria *pandassql*:\n",
    "\n",
    "**pip install pandasql**\n",
    "\n"
   ]
  },
  {
   "cell_type": "code",
   "execution_count": 6,
   "metadata": {},
   "outputs": [
    {
     "name": "stdout",
     "output_type": "stream",
     "text": [
      "      importe_total\n",
      "0            449.00\n",
      "1            393.18\n",
      "2            180.00\n",
      "3           4505.93\n",
      "4            123.00\n",
      "...             ...\n",
      "9905       12819.70\n",
      "9906         301.00\n",
      "9907       38860.00\n",
      "9908        7984.59\n",
      "9909       29997.38\n",
      "\n",
      "[9910 rows x 1 columns]\n"
     ]
    }
   ],
   "source": [
    "import pandasql as ps\n",
    "\n",
    "#Definimos la query\n",
    "\n",
    "consulta = '''SELECT importe_total FROM compras'''\n",
    "\n",
    "print(ps.sqldf(consulta,locals())) #la función .sqldf nos permite realizar una consulta (primer argumento) a los dataframes locales\n",
    "#la tabla que va a tomar es la que viene en la querie, detectará ese nombre y buscara en el area local un dataframe con ese nombre"
   ]
  },
  {
   "cell_type": "code",
   "execution_count": 7,
   "metadata": {},
   "outputs": [],
   "source": [
    "#Extraemos las tablas que existen en la base de datos.\n",
    "qproveedores = 'SELECT * FROM proveedores'\n",
    "proveedores = pd.read_sql(qproveedores,engine)\n"
   ]
  },
  {
   "cell_type": "code",
   "execution_count": 121,
   "metadata": {},
   "outputs": [],
   "source": [
    "##Obtener los 3 mejores proveedores por mes del 2024\n",
    "enero = '''SELECT DISTINCT(p.nombre), SUM(c.importe_total) AS importe__proveedor FROM compras c\n",
    "        INNER JOIN proveedores p\n",
    "        ON c.id_proveedor = p.id_proveedor\n",
    "        WHERE fecha BETWEEN '2024-01-01T00:00:00.000Z' AND '2024-01-31T00:00:00.000Z'\n",
    "        GROUP BY p.nombre\n",
    "        ORDER BY SUM(c.importe_total) DESC\n",
    "        LIMIT 3\n",
    "        '''\n",
    "febrero = '''SELECT DISTINCT(p.nombre), SUM(c.importe_total) AS importe__proveedor FROM compras c\n",
    "        INNER JOIN proveedores p\n",
    "        ON c.id_proveedor = p.id_proveedor\n",
    "        WHERE fecha BETWEEN '2024-02-01T00:00:00.000Z' AND '2024-02-31T00:00:00.000Z'\n",
    "        GROUP BY p.nombre\n",
    "        ORDER BY SUM(c.importe_total) DESC\n",
    "        LIMIT 3\n",
    "        '''\n",
    "marzo = '''SELECT DISTINCT(p.nombre), SUM(c.importe_total) AS importe__proveedor FROM compras c\n",
    "        INNER JOIN proveedores p\n",
    "        ON c.id_proveedor = p.id_proveedor\n",
    "        WHERE fecha BETWEEN '2024-03-01T00:00:00.000Z' AND '2024-03-31T00:00:00.000Z'\n",
    "        GROUP BY p.nombre\n",
    "        ORDER BY SUM(c.importe_total) DESC\n",
    "        LIMIT 3\n",
    "        '''\n",
    "abril = '''SELECT DISTINCT(p.nombre), SUM(c.importe_total) AS importe__proveedor FROM compras c\n",
    "        INNER JOIN proveedores p\n",
    "        ON c.id_proveedor = p.id_proveedor\n",
    "        WHERE fecha BETWEEN '2024-04-01T00:00:00.000Z' AND '2024-04-31T00:00:00.000Z'\n",
    "        GROUP BY p.nombre\n",
    "        ORDER BY SUM(c.importe_total) DESC\n",
    "        LIMIT 3\n",
    "        '''\n",
    "mayo = '''SELECT DISTINCT(p.nombre), SUM(c.importe_total) AS importe__proveedor FROM compras c\n",
    "        INNER JOIN proveedores p\n",
    "        ON c.id_proveedor = p.id_proveedor\n",
    "        WHERE fecha BETWEEN '2024-05-01T00:00:00.000Z' AND '2024-05-31T00:00:00.000Z'\n",
    "        GROUP BY p.nombre\n",
    "        ORDER BY SUM(c.importe_total) DESC\n",
    "        LIMIT 3\n",
    "        '''\n",
    "\n",
    "meses = ['enero','febrero','marzo','abril','mayo']\n",
    "q = [ps.sqldf(enero,locals()),ps.sqldf(febrero,locals()),ps.sqldf(marzo,locals()),ps.sqldf(abril,locals()),ps.sqldf(mayo,locals())]\n"
   ]
  },
  {
   "cell_type": "code",
   "execution_count": 9,
   "metadata": {},
   "outputs": [],
   "source": [
    "rankingproveedores2024 = {}\n",
    "rankingproveedores2024 = {mes : consulta for mes,consulta in zip(meses,q)}"
   ]
  },
  {
   "cell_type": "code",
   "execution_count": 11,
   "metadata": {},
   "outputs": [
    {
     "data": {
      "text/html": [
       "<div>\n",
       "<style scoped>\n",
       "    .dataframe tbody tr th:only-of-type {\n",
       "        vertical-align: middle;\n",
       "    }\n",
       "\n",
       "    .dataframe tbody tr th {\n",
       "        vertical-align: top;\n",
       "    }\n",
       "\n",
       "    .dataframe thead th {\n",
       "        text-align: right;\n",
       "    }\n",
       "</style>\n",
       "<table border=\"1\" class=\"dataframe\">\n",
       "  <thead>\n",
       "    <tr style=\"text-align: right;\">\n",
       "      <th></th>\n",
       "      <th>nombre</th>\n",
       "      <th>importe__proveedor</th>\n",
       "    </tr>\n",
       "  </thead>\n",
       "  <tbody>\n",
       "    <tr>\n",
       "      <th>0</th>\n",
       "      <td>DISTRIBUIDORA DE MAT. ELECTRICOS IND. DE TOLUC...</td>\n",
       "      <td>590173.58</td>\n",
       "    </tr>\n",
       "    <tr>\n",
       "      <th>1</th>\n",
       "      <td>Zigor Soluciones Integrales, S.A. de C.V.</td>\n",
       "      <td>509356.06</td>\n",
       "    </tr>\n",
       "    <tr>\n",
       "      <th>2</th>\n",
       "      <td>Productos Eléctricos y Ferreteros, S.A. de C.V...</td>\n",
       "      <td>243632.83</td>\n",
       "    </tr>\n",
       "  </tbody>\n",
       "</table>\n",
       "</div>"
      ],
      "text/plain": [
       "                                              nombre  importe__proveedor\n",
       "0  DISTRIBUIDORA DE MAT. ELECTRICOS IND. DE TOLUC...           590173.58\n",
       "1          Zigor Soluciones Integrales, S.A. de C.V.           509356.06\n",
       "2  Productos Eléctricos y Ferreteros, S.A. de C.V...           243632.83"
      ]
     },
     "execution_count": 11,
     "metadata": {},
     "output_type": "execute_result"
    }
   ],
   "source": [
    "rankingproveedores2024['febrero']"
   ]
  },
  {
   "cell_type": "code",
   "execution_count": 29,
   "metadata": {},
   "outputs": [
    {
     "name": "stdout",
     "output_type": "stream",
     "text": [
      "            estado  porcentaje  importe_por_estado\n",
      "0        Queretaro    0.978747          4232307.98\n",
      "1  San Luis Potosi    0.019646            84951.76\n",
      "2       Guanajuato    0.001608             6952.00\n"
     ]
    }
   ],
   "source": [
    "# %, cantidad de compras por almacen mensuales\n",
    "\n",
    "\n",
    "qestados = '''SELECT * FROM estados'''\n",
    "estados = pd.read_sql(qestados, engine)\n",
    "\n",
    "q = '''SELECT  e.estado, \n",
    "               SUM(c.importe_total)/(SELECT SUM(importe_total) FROM compras WHERE fecha BETWEEN '2024-05-01T00:00:00.000Z' AND '2024-05-31T00:00:00.000Z') AS porcentaje, \n",
    "               SUM(c.importe_total) AS importe_por_estado FROM compras c\n",
    "        INNER JOIN estados e\n",
    "        ON c.id_estado = e.id_estado\n",
    "        WHERE fecha BETWEEN '2024-05-01T00:00:00.000Z' AND '2024-05-31T00:00:00.000Z'           --Mayo\n",
    "        GROUP BY e.estado\n",
    "        ORDER BY importe_por_estado DESC'''\n",
    "\n",
    "\n",
    "print(ps.sqldf(q,locals()))"
   ]
  },
  {
   "cell_type": "code",
   "execution_count": 50,
   "metadata": {},
   "outputs": [
    {
     "name": "stdout",
     "output_type": "stream",
     "text": [
      "Empty DataFrame\n",
      "Columns: [status, fecha_cancelacion]\n",
      "Index: []\n"
     ]
    }
   ],
   "source": [
    "# corroborar las relación entre cancelación y status, tienen que empatar\n",
    "\n",
    "q_can_stat = '''SELECT status, fecha_cancelacion FROM compras\n",
    "                WHERE status = 'Cancelada' AND fecha_cancelacion IS NULL '''\n",
    "                \n",
    "print(ps.sqldf(q_can_stat,locals()))               \n",
    "\n",
    "#Si existe correlación "
   ]
  },
  {
   "cell_type": "code",
   "execution_count": 109,
   "metadata": {},
   "outputs": [
    {
     "name": "stdout",
     "output_type": "stream",
     "text": [
      "      status  cantidad    percent\n",
      "0  Cancelada       474   4.783047\n",
      "1    Emitida       238   2.401615\n",
      "2   Original      9198  92.815338\n"
     ]
    }
   ],
   "source": [
    "#Porcentaje de canceladas\n",
    "q_can = \"\"\"SELECT status,COUNT(status) AS cantidad, CAST(COUNT(status) AS float)*100/(SELECT COUNT(*) FROM compras) AS percent FROM compras\n",
    "            GROUP BY status\"\"\"          #Es necesario castear la operacion aritmetica ya sea multiplicando por un flotannte\n",
    "                                        #utilizando :: o CAST()\n",
    "print(ps.sqldf(q_can,locals()))    \n",
    "\n",
    "#Otro ejemplo:       \n",
    "# SELECT status, \n",
    "#                   COUNT(status) AS cantidad, \n",
    "#                   (COUNT(status) * 100.0 / total.total_count) AS porcentaje_por_concepto\n",
    "# FROM \n",
    "#     compras,(SELECT COUNT(*) AS total_count FROM compras) AS total\n",
    "# GROUP BY \n",
    "#     status, total.total_count\n"
   ]
  },
  {
   "cell_type": "markdown",
   "metadata": {},
   "source": [
    "# Gráficas\n",
    "\n",
    "utilizaremos tanto **matplotlib** como **seaborn** dependiendo de la necesidad y la estética"
   ]
  },
  {
   "cell_type": "code",
   "execution_count": 171,
   "metadata": {},
   "outputs": [
    {
     "name": "stdout",
     "output_type": "stream",
     "text": [
      "      id_proveedor importe_total  mes\n",
      "0              660       $449.00  4.0\n",
      "1              128       $393.18  2.0\n",
      "2              197       $180.00  2.0\n",
      "3              243     $4,505.93  2.0\n",
      "4              174       $123.00  2.0\n",
      "...            ...           ...  ...\n",
      "9905           146    $12,819.70  6.0\n",
      "9906           511       $301.00  6.0\n",
      "9907          1067    $38,860.00  6.0\n",
      "9908           151     $7,984.59  6.0\n",
      "9909          1601    $29,997.38  6.0\n",
      "\n",
      "[9910 rows x 3 columns]\n"
     ]
    }
   ],
   "source": [
    "#Graficamos los 3 mejores proveedores en un periodo de 6 meses y un periodo anual\n",
    "#Extraemos una tabla unicamente con la información necesaria y agregamos una columna que diga el mes para filtrar \n",
    "\n",
    "\n",
    "#print(compras[['id_proveedor','fecha','importe_total']])\n",
    "\n",
    "\n",
    "\n",
    "\n",
    "q_prov = '''SELECT p.nombre,fecha_recepcion AS fecha, MONTH(fecha),  c.importe_total FROM compras c\n",
    "            INNER JOIN proveedores p\n",
    "            ON c.id_proveedor = p.id_proveedor'''\n",
    "            \n",
    "qsub = '''SELECT id_proveedor,importe_total, EXTRACT(MONTH FROM fecha_recepcion) AS mes FROM compras\n",
    "          --WHERE MONTH(CAST(fecha_recepcion AS date)) = 1 '''            \n",
    "\n",
    "print(pd.read_sql(qsub,engine))\n",
    "\n",
    "\n",
    "#fig, ax = plt.subplots()\n",
    "#ax.scatter(x[])      "
   ]
  },
  {
   "cell_type": "code",
   "execution_count": null,
   "metadata": {},
   "outputs": [],
   "source": [
    "\n"
   ]
  }
 ],
 "metadata": {
  "kernelspec": {
   "display_name": "base",
   "language": "python",
   "name": "python3"
  },
  "language_info": {
   "codemirror_mode": {
    "name": "ipython",
    "version": 3
   },
   "file_extension": ".py",
   "mimetype": "text/x-python",
   "name": "python",
   "nbconvert_exporter": "python",
   "pygments_lexer": "ipython3",
   "version": "3.9.13"
  }
 },
 "nbformat": 4,
 "nbformat_minor": 2
}
